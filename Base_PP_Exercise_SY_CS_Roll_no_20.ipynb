{
  "cells": [
    {
      "cell_type": "markdown",
      "metadata": {
        "id": "CWvI8f62ndPO"
      },
      "source": [
        "## Python Basic Programming Exercises"
      ]
    },
    {
      "cell_type": "raw",
      "metadata": {
        "id": "-wofoKSEndPS"
      },
      "source": [
        "Q1: What is the output of following expression\n",
        "    5 + 4 * 9 % (3 + 1) / 6 - 1"
      ]
    },
    {
      "cell_type": "code",
      "execution_count": null,
      "metadata": {
        "colab": {
          "base_uri": "https://localhost:8080/"
        },
        "id": "2WVdLAvEndPU",
        "outputId": "e834fb8e-8946-4028-f582-ba0877fc4ae7"
      },
      "outputs": [
        {
          "output_type": "stream",
          "name": "stdout",
          "text": [
            "4.0\n"
          ]
        }
      ],
      "source": [
        "Expression_Result = 5 + 4 * 9 % (3 + 1) / 6 - 1\n",
        "print(Expression_Result)"
      ]
    },
    {
      "cell_type": "raw",
      "metadata": {
        "id": "2kPNnPASndPV"
      },
      "source": [
        "Q2: Write a program to check if a Number is Odd or Even. Take number as a input from user at runtime."
      ]
    },
    {
      "cell_type": "code",
      "execution_count": null,
      "metadata": {
        "colab": {
          "base_uri": "https://localhost:8080/"
        },
        "id": "byBpEp1KndPV",
        "outputId": "80f79f09-c091-4598-c960-3c86eff1e326"
      },
      "outputs": [
        {
          "output_type": "stream",
          "name": "stdout",
          "text": [
            "Enter a number : 7\n",
            "7 is odd number\n"
          ]
        }
      ],
      "source": [
        "num=int(input(\"Enter a number : \"))\n",
        "if num % 2!=0:\n",
        "  print(f\"{num} is odd number\")\n",
        "else:\n",
        "  print(f\"{num} is even number\")"
      ]
    },
    {
      "cell_type": "raw",
      "metadata": {
        "id": "TYsfNYhwndPW"
      },
      "source": [
        "**Q3**: Write a program to display the multiplication table by taking a number as input.\n",
        "    [Hint : Use print statement inside of a loop]"
      ]
    },
    {
      "cell_type": "code",
      "execution_count": null,
      "metadata": {
        "id": "RdNQsJAsndPX",
        "colab": {
          "base_uri": "https://localhost:8080/"
        },
        "outputId": "afcb6561-d92a-4ea3-a7d3-91aec32ae044"
      },
      "outputs": [
        {
          "output_type": "stream",
          "name": "stdout",
          "text": [
            "Enter a number: 20\n",
            "Multiplication Table for 20:\n",
            "20 x 1 = 20\n",
            "20 x 2 = 40\n",
            "20 x 3 = 60\n",
            "20 x 4 = 80\n",
            "20 x 5 = 100\n",
            "20 x 6 = 120\n",
            "20 x 7 = 140\n",
            "20 x 8 = 160\n",
            "20 x 9 = 180\n",
            "20 x 10 = 200\n"
          ]
        }
      ],
      "source": [
        "num = int(input(\"Enter a number: \"))\n",
        "print(f\"Multiplication Table for {num}:\")\n",
        "for i in range(1, 11):\n",
        "  print(f\"{num} x {i} = {num * i}\")\n"
      ]
    },
    {
      "cell_type": "raw",
      "metadata": {
        "id": "WAkT1WRcndPX"
      },
      "source": [
        "Q4: Write a program which will find all numbers between 2000 and 3200 which are divisible by 7\n",
        "    but are not a multiple of 5.\n",
        "\n",
        "Note: The numbers obtained should be printed in a comma-separated sequence on a single line."
      ]
    },
    {
      "cell_type": "code",
      "execution_count": null,
      "metadata": {
        "id": "HTRyboP1ndPY",
        "colab": {
          "base_uri": "https://localhost:8080/"
        },
        "outputId": "b2689b1a-6301-4d8c-fc9d-8a8db538eed7"
      },
      "outputs": [
        {
          "output_type": "stream",
          "name": "stdout",
          "text": [
            "2002,2009,2016,2023,2037,2044,2051,2058,2072,2079,2086,2093,2107,2114,2121,2128,2142,2149,2156,2163,2177,2184,2191,2198,2212,2219,2226,2233,2247,2254,2261,2268,2282,2289,2296,2303,2317,2324,2331,2338,2352,2359,2366,2373,2387,2394,2401,2408,2422,2429,2436,2443,2457,2464,2471,2478,2492,2499,2506,2513,2527,2534,2541,2548,2562,2569,2576,2583,2597,2604,2611,2618,2632,2639,2646,2653,2667,2674,2681,2688,2702,2709,2716,2723,2737,2744,2751,2758,2772,2779,2786,2793,2807,2814,2821,2828,2842,2849,2856,2863,2877,2884,2891,2898,2912,2919,2926,2933,2947,2954,2961,2968,2982,2989,2996,3003,3017,3024,3031,3038,3052,3059,3066,3073,3087,3094,3101,3108,3122,3129,3136,3143,3157,3164,3171,3178,3192,3199\n"
          ]
        }
      ],
      "source": [
        "numbers = []\n",
        "for i in range(2000, 3201):\n",
        "  if (i % 7 == 0) and (i % 5 != 0):\n",
        "    numbers.append(str(i))\n",
        "print(','.join(numbers))\n",
        "     # print(i)\n"
      ]
    },
    {
      "cell_type": "raw",
      "metadata": {
        "id": "14j6L7GLndPY"
      },
      "source": [
        "Q5: Count the elements of each datatype inside the list and display in output\n",
        "    [2, 3, 'Py', '10', 1, 'SQL', 5.5, True, 3, 'John', None, 7]"
      ]
    },
    {
      "cell_type": "code",
      "execution_count": null,
      "metadata": {
        "id": "C0SKJhRqndPa",
        "colab": {
          "base_uri": "https://localhost:8080/"
        },
        "outputId": "ea237bf5-4e43-4a15-ecd6-e9863726f3b8"
      },
      "outputs": [
        {
          "output_type": "stream",
          "name": "stdout",
          "text": [
            "<class 'int'>: 5\n",
            "<class 'str'>: 4\n",
            "<class 'float'>: 1\n",
            "<class 'bool'>: 1\n",
            "<class 'NoneType'>: 1\n"
          ]
        }
      ],
      "source": [
        "# prompt: Count the elements of each datatype inside the list and display in output [2, 3, 'Py', '10', 1, 'SQL', 5.5, True, 3, 'John', None, 7]\n",
        "\n",
        "list_data = [2, 3, 'Py', '10', 1, 'SQL', 5.5, True, 3, 'John', None, 7]\n",
        "\n",
        "data_types = {}\n",
        "for item in list_data:\n",
        "  data_type = type(item)\n",
        "  if data_type not in data_types:\n",
        "    data_types[data_type] = 0\n",
        "  data_types[data_type] += 1\n",
        "\n",
        "for data_type, count in data_types.items():\n",
        "  print(f\"{data_type}: {count}\")\n"
      ]
    },
    {
      "cell_type": "raw",
      "metadata": {
        "id": "rM0YbnE_ndPb"
      },
      "source": [
        "Q6: Add all values from the list with numeric datatypes\n",
        "    [2, 3, 'Py', '10', 1, 'SQL', 5.5, True, 3, 'John', None, 7]"
      ]
    },
    {
      "cell_type": "code",
      "execution_count": 2,
      "metadata": {
        "id": "1jDE6CWKndPb",
        "colab": {
          "base_uri": "https://localhost:8080/"
        },
        "outputId": "4b0ddabe-22cf-49b0-d836-3a0c90cd58c8"
      },
      "outputs": [
        {
          "output_type": "stream",
          "name": "stdout",
          "text": [
            "The sum of all numeric values is: 22.5\n"
          ]
        }
      ],
      "source": [
        "# Given list\n",
        "elements = [2, 3, 'Py', '10', 1, 'SQL', 5.5, True, 3, 'John', None, 7]\n",
        "\n",
        "# Initialize the total sum\n",
        "total_sum = 0\n",
        "\n",
        "# Iterate through the list and sum numeric values\n",
        "for element in elements:\n",
        "    if isinstance(element, (int, float)):  # Check if the element is an int or float\n",
        "        total_sum += element\n",
        "\n",
        "# Display the total sum\n",
        "print(\"The sum of all numeric values is:\", total_sum)"
      ]
    },
    {
      "cell_type": "raw",
      "metadata": {
        "id": "t-i7MakbndPc"
      },
      "source": [
        "# Q7: Concat all str datatypes with hyphen as a delimiter\n",
        "    [2, 3, 'Py', '10', 1, 'SQL', 5.5, True, 3, 'John', None, 7]"
      ]
    },
    {
      "cell_type": "code",
      "execution_count": 3,
      "metadata": {
        "id": "wKkWAYWWndPc",
        "colab": {
          "base_uri": "https://localhost:8080/"
        },
        "outputId": "fbd30b99-2580-41b7-f81f-cedeee8d2260"
      },
      "outputs": [
        {
          "output_type": "stream",
          "name": "stdout",
          "text": [
            "Py-10-SQL-John\n"
          ]
        }
      ],
      "source": [
        "elements = [2, 3, 'Py', '10', 1, 'SQL', 5.5, True, 3, 'John', None, 7]\n",
        "string_elements = []\n",
        "for element in elements:\n",
        "  if isinstance(element, str):\n",
        "    string_elements.append(element)\n",
        "result = '-'.join(string_elements)\n",
        "print(result)\n"
      ]
    },
    {
      "cell_type": "raw",
      "metadata": {
        "id": "Iti3NAA7ndPd"
      },
      "source": [
        "Q8 Get only odd numbers from the following list and store the numbers in new list\n",
        "    li = [5, 7, 22, 97, 54, 62, 77, 23, 73, 61]\n",
        "\n",
        "    i. Use loops to get the answer\n",
        "   ii. Use list comprehensions\n",
        "  iii. Use lambda function with filter"
      ]
    },
    {
      "cell_type": "code",
      "execution_count": 4,
      "metadata": {
        "id": "MHzAG2lHndPd",
        "colab": {
          "base_uri": "https://localhost:8080/"
        },
        "outputId": "3fe3fd18-29a7-47bf-9cdc-372753ad38a4"
      },
      "outputs": [
        {
          "output_type": "stream",
          "name": "stdout",
          "text": [
            "Odd numbers using loops: [5, 7, 97, 77, 23, 73, 61]\n",
            "Odd numbers using list comprehension: [5, 7, 97, 77, 23, 73, 61]\n",
            "Odd numbers using lambda and filter: [5, 7, 97, 77, 23, 73, 61]\n"
          ]
        }
      ],
      "source": [
        "li = [5, 7, 22, 97, 54, 62, 77, 23, 73, 61]\n",
        "\n",
        "# i. Using loops\n",
        "odd_numbers_loop = []\n",
        "for num in li:\n",
        "  if num % 2 != 0:\n",
        "    odd_numbers_loop.append(num)\n",
        "print(\"Odd numbers using loops:\", odd_numbers_loop)\n",
        "\n",
        "\n",
        "# ii. Using list comprehensions\n",
        "odd_numbers_comprehension = [num for num in li if num % 2 != 0]\n",
        "print(\"Odd numbers using list comprehension:\", odd_numbers_comprehension)\n",
        "\n",
        "\n",
        "# iii. Using lambda function with filter\n",
        "odd_numbers_lambda = list(filter(lambda num: num % 2 != 0, li))\n",
        "print(\"Odd numbers using lambda and filter:\", odd_numbers_lambda)\n"
      ]
    },
    {
      "cell_type": "raw",
      "metadata": {
        "id": "ULfVARu3ndPe"
      },
      "source": [
        "Q9: Write an udf to calculate the area of different shapes\n",
        "\n",
        "Take shape and dimensions as arguments to udf as follows :\n",
        "\n",
        "1. square which has side\n",
        "2. rectangle which has length and width\n",
        "3. circle which has radius\n",
        "\n",
        "The shape should be a positional argument and it's dimensions are taken as kwargs\n",
        "\n",
        "Perform proper validation for the user inputs and then calculate area.\n",
        "\n",
        "E.g. if shape is square, ensure kwargs has \"side\" and if so, then you may return the area, else display appropriate error message like \"Please enter 'side' for a square\""
      ]
    },
    {
      "cell_type": "code",
      "source": [
        "def calculate_area(shape, **kwargs):\n",
        "    \"\"\"Calculate the area of different shapes\"\"\"\n",
        "    if shape == \"square\":\n",
        "        if \"side\" in kwargs:\n",
        "            side = kwargs[\"side\"]\n",
        "            if side <= 0:\n",
        "                return \"Side must be a positive number.\"\n",
        "            return side ** 2\n",
        "        else:\n",
        "            return \"Please enter 'side' for a square.\"\n",
        "\n",
        "    elif shape == \"rectangle\":\n",
        "        if \"length\" in kwargs and \"width\" in kwargs:\n",
        "            length = kwargs[\"length\"]\n",
        "            width = kwargs[\"width\"]\n",
        "            if length <= 0 or width <= 0:\n",
        "                return \"Length and width must be positive numbers.\"\n",
        "            return length * width\n",
        "        else:\n",
        "            return \"Please enter 'length' and 'width' for a rectangle.\"\n",
        "\n",
        "    elif shape == \"circle\":\n",
        "        if \"radius\" in kwargs:\n",
        "            radius = kwargs[\"radius\"]\n",
        "            if radius <= 0:\n",
        "                return \"Radius must be a positive number.\"\n",
        "            return 3.14159 * (radius ** 2)  # Using Pi approximation\n",
        "        else:\n",
        "            return \"Please enter 'radius' for a circle.\"\n",
        "\n",
        "    else:\n",
        "        return \"Unsupported shape. Please use 'square', 'rectangle', or 'circle'.\"\n",
        "\n",
        "# Example usage\n",
        "if __name__ == \"__main__\":\n",
        "    shape = input(\"Enter the shape (square, rectangle, circle): \").strip().lower()\n",
        "\n",
        "    if shape == \"square\":\n",
        "        side = float(input(\"Enter the side length: \"))\n",
        "        area = calculate_area(shape, side=side)\n",
        "    elif shape == \"rectangle\":\n",
        "        length = float(input(\"Enter the length: \"))\n",
        "        width = float(input(\"Enter the width: \"))\n",
        "        area = calculate_area(shape, length=length, width=width)\n",
        "    elif shape == \"circle\":\n",
        "        radius = float(input(\"Enter the radius: \"))\n",
        "        area = calculate_area(shape, radius=radius)\n",
        "    else:\n",
        "        area = \"Unsupported shape.\"\n",
        "\n",
        "    print(\"Area:\", area)\n"
      ],
      "metadata": {
        "colab": {
          "base_uri": "https://localhost:8080/"
        },
        "id": "3Y3EgDBLScna",
        "outputId": "2eda7a70-9c8e-46aa-c056-77b5ac31a1e3"
      },
      "execution_count": 5,
      "outputs": [
        {
          "output_type": "stream",
          "name": "stdout",
          "text": [
            "Enter the shape (square, rectangle, circle): rectangle\n",
            "Enter the length: 4\n",
            "Enter the width: 6\n",
            "Area: 24.0\n"
          ]
        }
      ]
    },
    {
      "cell_type": "raw",
      "metadata": {
        "collapsed": true,
        "jupyter": {
          "outputs_hidden": true
        },
        "id": "kuzDIQQGndPg"
      },
      "source": [
        "Q10: write a UDF to check if a number is prime or not."
      ]
    },
    {
      "cell_type": "code",
      "source": [
        "\n",
        "\n",
        "def is_prime(n):\n",
        "  \"\"\"\n",
        "  Checks if a number is prime or not.\n",
        "\n",
        "  Args:\n",
        "      n: The number to check.\n",
        "\n",
        "  Returns:\n",
        "      True if n is prime, False otherwise.\n",
        "  \"\"\"\n",
        "  if n <= 1:\n",
        "    return False\n",
        "  for i in range(2, int(n**0.5) + 1):\n",
        "    if n % i == 0:\n",
        "      return False\n",
        "  return True\n"
      ],
      "metadata": {
        "id": "XaRaUKDES0TG"
      },
      "execution_count": 7,
      "outputs": []
    },
    {
      "cell_type": "raw",
      "metadata": {
        "collapsed": true,
        "jupyter": {
          "outputs_hidden": true
        },
        "id": "laAk4EjVndPh"
      },
      "source": [
        "Q11. Write a program that takes a string and returns reversed string. i.e. if input is \"abcd123\" output should be \"321dcba\""
      ]
    },
    {
      "cell_type": "code",
      "execution_count": 8,
      "metadata": {
        "id": "v3GloMAendPh",
        "colab": {
          "base_uri": "https://localhost:8080/"
        },
        "outputId": "bd855fbf-9d54-4d86-b759-af736b49661e"
      },
      "outputs": [
        {
          "output_type": "stream",
          "name": "stdout",
          "text": [
            "Enter a string: aeee\n",
            "Reversed string: eeea\n"
          ]
        }
      ],
      "source": [
        "def reverse_string(input_string):\n",
        "  \"\"\"Reverses a given string.\n",
        "\n",
        "  Args:\n",
        "    input_string: The string to be reversed.\n",
        "\n",
        "  Returns:\n",
        "    The reversed string.\n",
        "  \"\"\"\n",
        "  return input_string[::-1]\n",
        "\n",
        "# Get input from the user\n",
        "input_str = input(\"Enter a string: \")\n",
        "\n",
        "# Reverse the string and print the result\n",
        "reversed_str = reverse_string(input_str)\n",
        "print(\"Reversed string:\", reversed_str)\n"
      ]
    }
  ],
  "metadata": {
    "kernelspec": {
      "display_name": "Python 3 (ipykernel)",
      "language": "python",
      "name": "python3"
    },
    "language_info": {
      "codemirror_mode": {
        "name": "ipython",
        "version": 3
      },
      "file_extension": ".py",
      "mimetype": "text/x-python",
      "name": "python",
      "nbconvert_exporter": "python",
      "pygments_lexer": "ipython3",
      "version": "3.12.4"
    },
    "varInspector": {
      "cols": {
        "lenName": 16,
        "lenType": 16,
        "lenVar": 40
      },
      "kernels_config": {
        "python": {
          "delete_cmd_postfix": "",
          "delete_cmd_prefix": "del ",
          "library": "var_list.py",
          "varRefreshCmd": "print(var_dic_list())"
        },
        "r": {
          "delete_cmd_postfix": ") ",
          "delete_cmd_prefix": "rm(",
          "library": "var_list.r",
          "varRefreshCmd": "cat(var_dic_list()) "
        }
      },
      "types_to_exclude": [
        "module",
        "function",
        "builtin_function_or_method",
        "instance",
        "_Feature"
      ],
      "window_display": false
    },
    "colab": {
      "provenance": []
    }
  },
  "nbformat": 4,
  "nbformat_minor": 0
}